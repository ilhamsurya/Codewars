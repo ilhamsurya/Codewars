{
 "cells": [
  {
   "cell_type": "markdown",
   "metadata": {},
   "source": [
    "# Interview Question"
   ]
  },
  {
   "cell_type": "markdown",
   "metadata": {},
   "source": [
    "# Daftar fungsi python"
   ]
  },
  {
   "cell_type": "markdown",
   "metadata": {},
   "source": [
    "1. replace(sebelum,sesudah): Buat ngubah isi dari suatu elemen\n",
    "2. len(): ngecek panjang dari si elemen\n",
    "3. set(): \n",
    "4. sort(): sorting elemen\n",
    "5. zip(arr1,arr2): menggabungan nilai 2 array sesuai posisi elemennya\n",
    "6. range(awal,akhir): mengecek range nilai dari titik awal ke akhir\n",
    "7. defaultdict(int): inisiasi dictionary / hash table (setting default key)\n",
    "8. dict(): inisiasi dictionary (tidak setting default key)\n",
    "9. max(x,y): perbandingan dari 2 nilai"
   ]
  },
  {
   "cell_type": "markdown",
   "metadata": {},
   "source": [
    "## Anagram Check"
   ]
  },
  {
   "cell_type": "markdown",
   "metadata": {},
   "source": [
    "Terdapat 2 string, periksa apakah string tersebut. beranagram satu sama lain. dapat dikatakan anagram apabila dapat membentuk kata-kata baru dari kata yang sudah ada"
   ]
  },
  {
   "cell_type": "code",
   "execution_count": 29,
   "metadata": {},
   "outputs": [],
   "source": [
    "\n",
    "    def isAnagram(self, s: str, t: str) -> bool:\n",
    "        s = t.replace(\" \", \"\")\n",
    "        t = t.replace(\" \", \"\")\n",
    "        \n",
    "        if len(s) != len(t):\n",
    "            return False\n",
    "        \n",
    "        count = {}\n",
    "        # Melakukan penambahan ke dict\n",
    "        for huruf in s:\n",
    "            if huruf in count:\n",
    "                #nambah kalo huruf lama kedeteksi lagi\n",
    "                count[huruf] += 1\n",
    "            else:\n",
    "                #jadi 1 kalo ada huruf baru yang kedetek\n",
    "                count[huruf] = 1\n",
    "        \n",
    "        for huruf in t:\n",
    "            if huruf in count:\n",
    "                #ngecek si dict, misalnya udh ada si huruf bakal ngurang\n",
    "                count[huruf] -= 1\n",
    "            else:\n",
    "                return False\n",
    "        \n",
    "        for k in count:\n",
    "            if count[k] != 0: \n",
    "                return False\n",
    "            \n",
    "        return True\n",
    "        "
   ]
  },
  {
   "cell_type": "markdown",
   "metadata": {},
   "source": [
    "# Array Pair Sum"
   ]
  },
  {
   "cell_type": "markdown",
   "metadata": {},
   "source": [
    "Menyelisih angka yang sama dari array, ex: array arr[1,3,2,2] maka pair_sum(x,k):\n",
    "(1,3) dan (2,2)"
   ]
  },
  {
   "cell_type": "code",
   "execution_count": 27,
   "metadata": {},
   "outputs": [],
   "source": [
    "def pair_sum(arr, k):\n",
    "    #karena tujuan akhir harus pair (angka diatas 1, maka arr kurang dari 1 pasti salah)\n",
    "    if len(arr)<2:\n",
    "        return\n",
    "    \n",
    "    seen = set()\n",
    "    output = set()\n",
    "\n",
    "    for num in arr:\n",
    "        target = k-num\n",
    "        \n",
    "    if target not in seen:\n",
    "        seen.add(num)\n",
    "        \n",
    "    else:\n",
    "        output.add(((min(num,target)), max(num,target)))"
   ]
  },
  {
   "cell_type": "markdown",
   "metadata": {},
   "source": [
    "# Find The Missing Element "
   ]
  },
  {
   "cell_type": "markdown",
   "metadata": {},
   "source": [
    "mencari angka yang hilang sebelum dan sesudah: ([1,2,3], [3,1]) angka yang hilang adalah 2"
   ]
  },
  {
   "cell_type": "markdown",
   "metadata": {},
   "source": [
    "CARA 1: ARRAY"
   ]
  },
  {
   "cell_type": "code",
   "execution_count": 1,
   "metadata": {},
   "outputs": [],
   "source": [
    "def finder(arr1, arr2):\n",
    "    arr1.sort()\n",
    "    arr2.sort()\n",
    "    \n",
    "    for num1,num2 in zip(arr1,arr2):\n",
    "        if num1 != num2:\n",
    "            return num1\n",
    "        \n",
    "    return arr1[-1]"
   ]
  },
  {
   "cell_type": "code",
   "execution_count": 4,
   "metadata": {},
   "outputs": [
    {
     "data": {
      "text/plain": [
       "4"
      ]
     },
     "execution_count": 4,
     "metadata": {},
     "output_type": "execute_result"
    }
   ],
   "source": [
    "arr1 = [1,2,3,4,5,6]\n",
    "arr2 = [2,3,5,1,6]\n",
    "finder(arr1,arr2)"
   ]
  },
  {
   "cell_type": "markdown",
   "metadata": {},
   "source": [
    "CARA 2 Hash Table"
   ]
  },
  {
   "cell_type": "code",
   "execution_count": 5,
   "metadata": {},
   "outputs": [],
   "source": [
    "import collections"
   ]
  },
  {
   "cell_type": "code",
   "execution_count": 10,
   "metadata": {},
   "outputs": [],
   "source": [
    "def finder2(arr1,arr2):\n",
    "    d = collections.defaultdict(int)\n",
    "    \n",
    "    for num in arr2:\n",
    "        d[num] += 1\n",
    "        \n",
    "    for num in arr1:\n",
    "        if d[num] == 0:\n",
    "            return num\n",
    "        \n",
    "        else:\n",
    "            d[num] -= 1\n",
    "            \n",
    "    \n",
    "    "
   ]
  },
  {
   "cell_type": "code",
   "execution_count": 11,
   "metadata": {},
   "outputs": [
    {
     "data": {
      "text/plain": [
       "4"
      ]
     },
     "execution_count": 11,
     "metadata": {},
     "output_type": "execute_result"
    }
   ],
   "source": [
    "arr1 = [1,2,3,4,5,6]\n",
    "arr2 = [2,3,5,1,6]\n",
    "finder2(arr1,arr2)"
   ]
  },
  {
   "cell_type": "markdown",
   "metadata": {},
   "source": [
    "# Largest Continuous Sum"
   ]
  },
  {
   "cell_type": "markdown",
   "metadata": {},
   "source": [
    " Menjumlahkan angka secara terus menerus. mendata angka terbesar selama sum\n",
    " ex: [1,3,5,-2,1,-5)\n",
    " 1 + 3 + 5 = 9 (terbesar)\n",
    " 1 + 3 + 5 - 2 = 8 (terbesar ketiga)\n",
    " 1 + 3 +5 -2 + 1 = 9 (terbesar kedua)\n",
    " 1 + 3 + 5 - 2 + 1 - 5 = 2 (terkecil)\n",
    " output adalah 8"
   ]
  },
  {
   "cell_type": "code",
   "execution_count": 18,
   "metadata": {},
   "outputs": [],
   "source": [
    "def large_cont_sum(arr):\n",
    "    if len(arr) == 0:\n",
    "        return 0\n",
    "    \n",
    "    max_sum = current_sum = arr[0]\n",
    "    \n",
    "    for num in arr [1:]:\n",
    "        #melakukan penambahan pada nilai current, dengan perbandingan nilai sebelumnya\n",
    "        current_sum = max(current_sum + num, num)\n",
    "        \n",
    "        #perbandingan terhadap max_sum dan current_sum\n",
    "        max_sum = max(current_sum, max_sum)\n",
    "        \n",
    "    return max_sum"
   ]
  },
  {
   "cell_type": "code",
   "execution_count": 17,
   "metadata": {},
   "outputs": [
    {
     "data": {
      "text/plain": [
       "9"
      ]
     },
     "execution_count": 17,
     "metadata": {},
     "output_type": "execute_result"
    }
   ],
   "source": [
    "large_cont_sum([1,3,5,-2,1,-5])"
   ]
  },
  {
   "cell_type": "markdown",
   "metadata": {},
   "source": [
    "# Sentence Reversal"
   ]
  },
  {
   "cell_type": "markdown",
   "metadata": {},
   "source": [
    "Membalikkan seluruh kalimat"
   ]
  },
  {
   "cell_type": "code",
   "execution_count": 24,
   "metadata": {},
   "outputs": [],
   "source": [
    "def rev_word(s):\n",
    "    words = []\n",
    "    length = len(s)\n",
    "    space = [' ']\n",
    "    \n",
    "    i = 0\n",
    "    \n",
    "    while i < length:\n",
    "        if s[i] != space:\n",
    "            word_start = i \n",
    "            while i < length and s[i] != space:\n",
    "                i += 1\n",
    "            words.append(s[word_start:i])\n",
    "        i+= 1\n",
    "        \n",
    "    return words\n",
    "\n",
    "def final_output(words):\n",
    "    "
   ]
  },
  {
   "cell_type": "code",
   "execution_count": 26,
   "metadata": {},
   "outputs": [
    {
     "data": {
      "text/plain": [
       "'asu anjing'"
      ]
     },
     "execution_count": 26,
     "metadata": {},
     "output_type": "execute_result"
    }
   ],
   "source": [
    "rev_word('asu anjing')"
   ]
  },
  {
   "cell_type": "code",
   "execution_count": null,
   "metadata": {},
   "outputs": [],
   "source": []
  },
  {
   "cell_type": "code",
   "execution_count": null,
   "metadata": {},
   "outputs": [],
   "source": []
  },
  {
   "cell_type": "code",
   "execution_count": null,
   "metadata": {},
   "outputs": [],
   "source": []
  },
  {
   "cell_type": "raw",
   "metadata": {},
   "source": []
  },
  {
   "cell_type": "code",
   "execution_count": null,
   "metadata": {},
   "outputs": [],
   "source": []
  },
  {
   "cell_type": "code",
   "execution_count": null,
   "metadata": {},
   "outputs": [],
   "source": []
  },
  {
   "cell_type": "code",
   "execution_count": null,
   "metadata": {},
   "outputs": [],
   "source": []
  },
  {
   "cell_type": "code",
   "execution_count": null,
   "metadata": {},
   "outputs": [],
   "source": []
  },
  {
   "cell_type": "code",
   "execution_count": null,
   "metadata": {},
   "outputs": [],
   "source": []
  },
  {
   "cell_type": "code",
   "execution_count": null,
   "metadata": {},
   "outputs": [],
   "source": []
  },
  {
   "cell_type": "code",
   "execution_count": null,
   "metadata": {},
   "outputs": [],
   "source": []
  },
  {
   "cell_type": "code",
   "execution_count": null,
   "metadata": {},
   "outputs": [],
   "source": []
  },
  {
   "cell_type": "code",
   "execution_count": null,
   "metadata": {},
   "outputs": [],
   "source": []
  }
 ],
 "metadata": {
  "kernelspec": {
   "display_name": "Python 3",
   "language": "python",
   "name": "python3"
  },
  "language_info": {
   "codemirror_mode": {
    "name": "ipython",
    "version": 3
   },
   "file_extension": ".py",
   "mimetype": "text/x-python",
   "name": "python",
   "nbconvert_exporter": "python",
   "pygments_lexer": "ipython3",
   "version": "3.8.5"
  }
 },
 "nbformat": 4,
 "nbformat_minor": 4
}
